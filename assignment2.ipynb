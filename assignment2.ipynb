{
 "cells": [
  {
   "cell_type": "code",
   "execution_count": 1,
   "metadata": {},
   "outputs": [
    {
     "ename": "SyntaxError",
     "evalue": "invalid syntax (<ipython-input-1-54e54bd948ef>, line 1)",
     "output_type": "error",
     "traceback": [
      "\u001b[1;36m  File \u001b[1;32m\"<ipython-input-1-54e54bd948ef>\"\u001b[1;36m, line \u001b[1;32m1\u001b[0m\n\u001b[1;33m    1. Write a program which takes 5 inputs from user for different subject’smarks, total it and generate mark sheet using grades ?\u001b[0m\n\u001b[1;37m           ^\u001b[0m\n\u001b[1;31mSyntaxError\u001b[0m\u001b[1;31m:\u001b[0m invalid syntax\n"
     ]
    }
   ],
   "source": [
    "1. Write a program which takes 5 inputs from user for different subject’smarks, total it and generate mark sheet using grades ?"
   ]
  },
  {
   "cell_type": "code",
   "execution_count": 16,
   "metadata": {},
   "outputs": [
    {
     "name": "stdout",
     "output_type": "stream",
     "text": [
      "enter subject 1 marks : 50\n",
      "enter subject 2 marks : 40\n",
      "enter subject 3 marks : 60\n",
      "enter subject 4 marks : 70\n",
      "enter subject 5 marks : 80\n",
      "300\n",
      "Your Grade is C+\n"
     ]
    }
   ],
   "source": [
    "subj1 = int(input(\"enter subject 1 marks : \"))\n",
    "subj2 = int(input(\"enter subject 2 marks : \"))\n",
    "subj3 = int(input(\"enter subject 3 marks : \"))\n",
    "subj4 = int(input(\"enter subject 4 marks : \"))\n",
    "subj5 = int(input(\"enter subject 5 marks : \"))\n",
    "sum = subj1 + subj2 + subj3 + subj4 + subj5;\n",
    "print(sum);\n",
    "average = sum/5;\n",
    "if(average>=91 and average<=100):\n",
    "    print(\"Your Grade is A+\");\n",
    "elif(average>=81 and average<=90):\n",
    "    print(\"Your Grade is A\");\n",
    "elif(average>=71 and average<=80):\n",
    "    print(\"Your Grade is B+\");\n",
    "elif(average>=61 and average<=70):\n",
    "    print(\"Your Grade is B\");\n",
    "elif(average>=51 and average<=60):\n",
    "    print(\"Your Grade is C+\");\n",
    "elif(average>=41 and average<=50):\n",
    "    print(\"Your Grade is C\");\n",
    "elif(average>=0 and average<=40):\n",
    "    print(\"Your Grade is F\");\n",
    "else:\n",
    "    print(\"Strange Grade..!!\");"
   ]
  },
  {
   "cell_type": "code",
   "execution_count": null,
   "metadata": {},
   "outputs": [],
   "source": [
    "2-Write a program which take input from user and identify that the given number is even or odd?"
   ]
  },
  {
   "cell_type": "code",
   "execution_count": 17,
   "metadata": {},
   "outputs": [
    {
     "name": "stdout",
     "output_type": "stream",
     "text": [
      "enter a number : 5\n",
      "ODD\n"
     ]
    }
   ],
   "source": [
    "a =int (input(\"enter a number : \"))\n",
    "if a%2==0 : \n",
    "    print(\"EVEN\")\n",
    "else:\n",
    "    print(\"ODD\")\n"
   ]
  },
  {
   "cell_type": "code",
   "execution_count": null,
   "metadata": {},
   "outputs": [],
   "source": [
    "3. Write a program which print the length of the list?"
   ]
  },
  {
   "cell_type": "code",
   "execution_count": 18,
   "metadata": {},
   "outputs": [
    {
     "data": {
      "text/plain": [
       "4"
      ]
     },
     "execution_count": 18,
     "metadata": {},
     "output_type": "execute_result"
    }
   ],
   "source": [
    "a=['apple',10,'banana','foo']\n",
    "len(a )\n"
   ]
  },
  {
   "cell_type": "code",
   "execution_count": null,
   "metadata": {},
   "outputs": [],
   "source": [
    "4. Write a Python program to sum all the numeric items in a list?"
   ]
  },
  {
   "cell_type": "code",
   "execution_count": 31,
   "metadata": {},
   "outputs": [
    {
     "name": "stdout",
     "output_type": "stream",
     "text": [
      "Sum of all elements in given list:  148\n"
     ]
    }
   ],
   "source": [
    "total = 0\n",
    "  \n",
    "list1 = [11, 5, 17, 18, 23]  \n",
    "\n",
    "for ele in range(0, len(list1)): \n",
    "    total = total + list1[ele] \n",
    "\n",
    "print(\"Sum of all elements in given list: \", total) "
   ]
  },
  {
   "cell_type": "code",
   "execution_count": null,
   "metadata": {},
   "outputs": [],
   "source": [
    "5. Write a Python program to get the largest number from a numeric list."
   ]
  },
  {
   "cell_type": "code",
   "execution_count": 32,
   "metadata": {},
   "outputs": [
    {
     "data": {
      "text/plain": [
       "500"
      ]
     },
     "execution_count": 32,
     "metadata": {},
     "output_type": "execute_result"
    }
   ],
   "source": [
    "number = [98,200,500,34,2,1]\n",
    "max(number)\n"
   ]
  },
  {
   "cell_type": "code",
   "execution_count": null,
   "metadata": {},
   "outputs": [],
   "source": [
    "6. Take a list, say for example this one: a = [1, 1, 2, 3, 5, 8, 13, 21, 34, 55, 89] and write a program that prints out all the elements of the list that are less than 5."
   ]
  },
  {
   "cell_type": "code",
   "execution_count": 33,
   "metadata": {},
   "outputs": [
    {
     "name": "stdout",
     "output_type": "stream",
     "text": [
      "[1, 1, 2, 3]\n"
     ]
    }
   ],
   "source": [
    "a = [1, 1, 2, 3, 5, 8, 13, 21, 34, 55, 89]\n",
    "\n",
    "new_list = []\n",
    "\n",
    "for item in a:\n",
    "  \n",
    " if item < 5 :\n",
    "    \n",
    "     new_list.append(item)\n",
    "print(new_list)\n"
   ]
  },
  {
   "cell_type": "code",
   "execution_count": null,
   "metadata": {},
   "outputs": [],
   "source": []
  }
 ],
 "metadata": {
  "kernelspec": {
   "display_name": "Python 3",
   "language": "python",
   "name": "python3"
  },
  "language_info": {
   "codemirror_mode": {
    "name": "ipython",
    "version": 3
   },
   "file_extension": ".py",
   "mimetype": "text/x-python",
   "name": "python",
   "nbconvert_exporter": "python",
   "pygments_lexer": "ipython3",
   "version": "3.7.4"
  }
 },
 "nbformat": 4,
 "nbformat_minor": 2
}
